{
 "cells": [
  {
   "cell_type": "code",
   "execution_count": null,
   "id": "3ee33d8f",
   "metadata": {
    "ExecuteTime": {
     "end_time": "2023-11-16T18:13:48.998247Z",
     "start_time": "2023-11-16T18:13:46.389378Z"
    }
   },
   "outputs": [],
   "source": [
    "# Import necessary modules\n",
    "import numpy as np\n",
    "import pandas as pd\n",
    "import netCDF4 as nc \n",
    "import warnings\n",
    "import xarray as xr\n",
    "import pickle\n",
    "import concurrent.futures\n",
    "# Suppress specific warnings using filterwarnings()\n",
    "warnings.filterwarnings('ignore', category=UserWarning, append=True)\n",
    "warnings.filterwarnings('ignore', category=RuntimeWarning, append=True)\n",
    "warnings.filterwarnings('ignore', category=FutureWarning, append=True)\n",
    "warnings.filterwarnings('ignore',category=pd.io.pytables.PerformanceWarning)"
   ]
  },
  {
   "cell_type": "code",
   "execution_count": null,
   "id": "ff05073e",
   "metadata": {
    "ExecuteTime": {
     "end_time": "2023-11-16T18:13:49.026135Z",
     "start_time": "2023-11-16T18:13:49.000129Z"
    }
   },
   "outputs": [],
   "source": [
    "# Import the 'caffeine' library for preventing screen from going to sleep\n",
    "import caffeine\n",
    "# Enable caffeine mode with the option to keep the display on\n",
    "caffeine.on(display=True)  "
   ]
  },
  {
   "cell_type": "code",
   "execution_count": null,
   "id": "2a132251",
   "metadata": {
    "ExecuteTime": {
     "end_time": "2023-11-16T18:13:50.238308Z",
     "start_time": "2023-11-16T18:13:49.029067Z"
    }
   },
   "outputs": [],
   "source": [
    "# Read data from an HDF5 file into a DataFrame\n",
    "data = pd.read_hdf('Save/Track.h5',key='/table') \n",
    "# Open a NetCDF file as an xarray Dataset for segmentation mask\n",
    "mask = xr.open_dataset('Save/Mask_Segmentation_TB.nc')\n",
    "# Open a NetCDF file as an xarray Dataset for TB and TAU data\n",
    "ds = xr.open_dataset('Save/TAU_TB.nc')"
   ]
  },
  {
   "cell_type": "code",
   "execution_count": null,
   "id": "7df2960e",
   "metadata": {
    "ExecuteTime": {
     "end_time": "2023-11-16T18:14:51.170229Z",
     "start_time": "2023-11-16T18:13:50.240782Z"
    }
   },
   "outputs": [],
   "source": [
    "# Get rid of cells that have only one feature in them\n",
    "data = data.groupby('cell').filter(lambda x : (x['cell'].count()>1)).reset_index(drop=True)"
   ]
  },
  {
   "cell_type": "markdown",
   "id": "1bbd35eb",
   "metadata": {},
   "source": [
    "# Get pixel level infromation on brightness temperature, optical thickness and longitude/latitude"
   ]
  },
  {
   "cell_type": "code",
   "execution_count": null,
   "id": "5efbb2e0",
   "metadata": {
    "ExecuteTime": {
     "end_time": "2023-11-16T18:22:36.332504Z",
     "start_time": "2023-11-16T18:14:51.172273Z"
    }
   },
   "outputs": [],
   "source": [
    "# Convert xarray DataArrays to NumPy arrays for 'tb', 'tau', and 'mask'\n",
    "tb = np.array(ds.Tb.values)\n",
    "tau = np.array(ds.Tau.values)\n",
    "mask = np.array(mask.segmentation_mask.values)"
   ]
  },
  {
   "cell_type": "code",
   "execution_count": null,
   "id": "d6b76820",
   "metadata": {
    "ExecuteTime": {
     "end_time": "2023-11-16T18:22:36.388473Z",
     "start_time": "2023-11-16T18:22:36.347013Z"
    }
   },
   "outputs": [],
   "source": [
    "# Extract 'frame' and 'feature' columns as NumPy arrays from the DataFrame\n",
    "frames = data['frame'].to_numpy() \n",
    "features = data['feature'].to_numpy()\n",
    "# Print the shapes of the 'features' and 'frames' arrays\n",
    "print(features.shape, frames.shape)"
   ]
  },
  {
   "cell_type": "code",
   "execution_count": null,
   "id": "7c2249ca",
   "metadata": {
    "ExecuteTime": {
     "end_time": "2023-11-16T18:22:36.398483Z",
     "start_time": "2023-11-16T18:22:36.390052Z"
    }
   },
   "outputs": [],
   "source": [
    "# Function to retrieve brightness temperature data for every feature\n",
    "def get_tb(a, b):\n",
    "    # The get_tb function retrieves 'tb' data based on certain conditions specified by 'a' and 'b':\n",
    "    # a - time frame, b - unique feature id\n",
    "    try:\n",
    "        # Retrieve 'tb' data where 'mask' matches the specified condition\n",
    "        res = tb[a][np.where(mask[a] == b)].tolist()\n",
    "        return res  # Return the resulting 'tb' data\n",
    "    except:\n",
    "        pass  # Handle exceptions by returning None"
   ]
  },
  {
   "cell_type": "code",
   "execution_count": null,
   "id": "dbbb7968",
   "metadata": {
    "ExecuteTime": {
     "end_time": "2023-11-16T18:22:36.404842Z",
     "start_time": "2023-11-16T18:22:36.400446Z"
    }
   },
   "outputs": [],
   "source": [
    "# Function to retrieve optical thickness data for every feature\n",
    "def get_tau(a,b):\n",
    "    try:\n",
    "        res = tau[a][np.where(mask[a]==b)].tolist()\n",
    "        return res\n",
    "    except:\n",
    "        pass"
   ]
  },
  {
   "cell_type": "code",
   "execution_count": null,
   "id": "b2720fd5",
   "metadata": {
    "ExecuteTime": {
     "end_time": "2023-11-16T18:22:36.411518Z",
     "start_time": "2023-11-16T18:22:36.407824Z"
    }
   },
   "outputs": [],
   "source": [
    "# Function to retrieve latitude data for every feature\n",
    "def get_lats(a,b):\n",
    "    try: \n",
    "        indices = np.where(mask[a] == b)\n",
    "        lats = ds['lat'][indices[0]].values.tolist()\n",
    "        return lats\n",
    "    except:\n",
    "        pass"
   ]
  },
  {
   "cell_type": "code",
   "execution_count": null,
   "id": "7e257131",
   "metadata": {
    "ExecuteTime": {
     "end_time": "2023-11-16T18:22:36.423645Z",
     "start_time": "2023-11-16T18:22:36.419586Z"
    }
   },
   "outputs": [],
   "source": [
    "# Function to retrieve longitude data for every feature\n",
    "def get_lons(a,b):\n",
    "    try:\n",
    "        indices = np.where(mask[a] == b)\n",
    "        lons = ds['lon'][indices[1]].values.tolist()\n",
    "        return lons\n",
    "    except:\n",
    "        pass"
   ]
  },
  {
   "cell_type": "code",
   "execution_count": null,
   "id": "e3393682",
   "metadata": {
    "ExecuteTime": {
     "end_time": "2023-11-16T18:43:33.045436Z",
     "start_time": "2023-11-16T18:22:36.425505Z"
    }
   },
   "outputs": [],
   "source": [
    "dict_tb = {}\n",
    "def process_feature(args):\n",
    "    a, b = args\n",
    "    return b, get_tb(a, b)\n",
    "# Process 'frame' and 'feature' pairs in parallel using ThreadPoolExecutor\n",
    "with concurrent.futures.ThreadPoolExecutor() as executor:\n",
    "    future_to_feature = {executor.submit(process_feature, (a, b)): b for a, b in zip(frames, features)}\n",
    "    for future in concurrent.futures.as_completed(future_to_feature):\n",
    "        feature = future_to_feature[future]\n",
    "        try:\n",
    "            res = future.result()\n",
    "        except Exception as exc:\n",
    "            print(f'Feature {feature} generated an exception: {exc}')\n",
    "        else:\n",
    "            dict_tb[res[0]] = res[1]"
   ]
  },
  {
   "cell_type": "code",
   "execution_count": null,
   "id": "c741f16d",
   "metadata": {
    "ExecuteTime": {
     "end_time": "2023-11-16T18:45:54.575930Z",
     "start_time": "2023-11-16T18:43:33.053826Z"
    }
   },
   "outputs": [],
   "source": [
    "# Define the path to the pickle file\n",
    "pickle_file_path = 'Save/pickles/tb_dict.pkl'\n",
    "# Save the dictionary to the pickle file\n",
    "with open(pickle_file_path, 'wb') as pickle_file:\n",
    "    pickle.dump(dict_tb, pickle_file)"
   ]
  },
  {
   "cell_type": "code",
   "execution_count": null,
   "id": "58abb399",
   "metadata": {
    "ExecuteTime": {
     "end_time": "2023-11-16T18:45:54.632902Z",
     "start_time": "2023-11-16T18:45:54.581145Z"
    }
   },
   "outputs": [],
   "source": [
    "del dict_tb"
   ]
  },
  {
   "cell_type": "code",
   "execution_count": null,
   "id": "6d28afa5",
   "metadata": {
    "ExecuteTime": {
     "end_time": "2023-11-16T19:09:21.040278Z",
     "start_time": "2023-11-16T18:45:54.635679Z"
    }
   },
   "outputs": [],
   "source": [
    "dict_tau = {}\n",
    "def process_feature(args):\n",
    "    a, b = args\n",
    "    return b, get_tau(a, b)\n",
    "# Process 'frame' and 'feature' pairs in parallel using ThreadPoolExecutor\n",
    "with concurrent.futures.ThreadPoolExecutor() as executor:\n",
    "    future_to_feature = {executor.submit(process_feature, (a, b)): b for a, b in zip(frames, features)}\n",
    "    for future in concurrent.futures.as_completed(future_to_feature):\n",
    "        feature = future_to_feature[future]\n",
    "        try:\n",
    "            res = future.result()\n",
    "        except Exception as exc:\n",
    "            print(f'Feature {feature} generated an exception: {exc}')\n",
    "        else:\n",
    "            dict_tau[res[0]] = res[1]"
   ]
  },
  {
   "cell_type": "code",
   "execution_count": null,
   "id": "c26a8621",
   "metadata": {
    "ExecuteTime": {
     "end_time": "2023-11-16T19:11:09.820152Z",
     "start_time": "2023-11-16T19:09:21.054769Z"
    }
   },
   "outputs": [],
   "source": [
    "# Define the path to the pickle file\n",
    "pickle_file_path = 'Save/pickles/tau_dict.pkl'\n",
    "# Save the dictionary to the pickle file \n",
    "with open(pickle_file_path, 'wb') as pickle_file:\n",
    "    pickle.dump(dict_tau, pickle_file)"
   ]
  },
  {
   "cell_type": "code",
   "execution_count": null,
   "id": "b5ff0035",
   "metadata": {
    "ExecuteTime": {
     "end_time": "2023-11-16T19:11:09.890798Z",
     "start_time": "2023-11-16T19:11:09.831128Z"
    }
   },
   "outputs": [],
   "source": [
    "del dict_tau"
   ]
  },
  {
   "cell_type": "code",
   "execution_count": null,
   "id": "dc2b3599",
   "metadata": {
    "ExecuteTime": {
     "end_time": "2023-11-16T19:36:52.107539Z",
     "start_time": "2023-11-16T19:11:09.894433Z"
    }
   },
   "outputs": [],
   "source": [
    "dict_lons = {}\n",
    "def process_feature(args):\n",
    "    a, b = args\n",
    "    return b, get_lons(a, b)\n",
    "# Process 'frame' and 'feature' pairs in parallel using ThreadPoolExecutor\n",
    "with concurrent.futures.ThreadPoolExecutor() as executor:\n",
    "    future_to_feature = {executor.submit(process_feature, (a, b)): b for a, b in zip(frames, features)}\n",
    "    for future in concurrent.futures.as_completed(future_to_feature):\n",
    "        feature = future_to_feature[future]\n",
    "        try:\n",
    "            res = future.result()\n",
    "        except Exception as exc:\n",
    "            print(f'Feature {feature} generated an exception: {exc}')\n",
    "        else:\n",
    "            dict_lons[res[0]] = res[1]"
   ]
  },
  {
   "cell_type": "code",
   "execution_count": null,
   "id": "dab25034",
   "metadata": {
    "ExecuteTime": {
     "end_time": "2023-11-16T19:39:00.700479Z",
     "start_time": "2023-11-16T19:36:52.117825Z"
    }
   },
   "outputs": [],
   "source": [
    "# Define the path to the pickle file\n",
    "pickle_file_path = 'Save/pickles/lons_dict.pkl'\n",
    "# Save the dictionary to the pickle file\n",
    "with open(pickle_file_path, 'wb') as pickle_file:\n",
    "    pickle.dump(dict_lons, pickle_file)"
   ]
  },
  {
   "cell_type": "code",
   "execution_count": null,
   "id": "9a5e8860",
   "metadata": {
    "ExecuteTime": {
     "end_time": "2023-11-16T19:39:00.751930Z",
     "start_time": "2023-11-16T19:39:00.706218Z"
    }
   },
   "outputs": [],
   "source": [
    "del dict_lons"
   ]
  },
  {
   "cell_type": "code",
   "execution_count": null,
   "id": "eb1a2e41",
   "metadata": {
    "ExecuteTime": {
     "end_time": "2023-11-16T20:04:34.803281Z",
     "start_time": "2023-11-16T19:39:00.756955Z"
    }
   },
   "outputs": [],
   "source": [
    "dict_lats = {}\n",
    "def process_feature(args):\n",
    "    a, b = args\n",
    "    return b, get_lats(a, b)\n",
    "# Process 'frame' and 'feature' pairs in parallel using ThreadPoolExecutor\n",
    "with concurrent.futures.ThreadPoolExecutor() as executor:\n",
    "    future_to_feature = {executor.submit(process_feature, (a, b)): b for a, b in zip(frames, features)}\n",
    "    for future in concurrent.futures.as_completed(future_to_feature):\n",
    "        feature = future_to_feature[future]\n",
    "        try:\n",
    "            res = future.result()\n",
    "        except Exception as exc:\n",
    "            print(f'Feature {feature} generated an exception: {exc}')\n",
    "        else:\n",
    "            dict_lats[res[0]] = res[1]"
   ]
  },
  {
   "cell_type": "code",
   "execution_count": null,
   "id": "807dc1c0",
   "metadata": {
    "ExecuteTime": {
     "end_time": "2023-11-16T20:06:17.285317Z",
     "start_time": "2023-11-16T20:04:34.825692Z"
    }
   },
   "outputs": [],
   "source": [
    "# Define the path to the pickle file\n",
    "pickle_file_path = 'Save/pickles/lats_dict.pkl'\n",
    "# Save the dictionary to the pickle file\n",
    "with open(pickle_file_path, 'wb') as pickle_file:\n",
    "    pickle.dump(dict_lats, pickle_file)"
   ]
  },
  {
   "cell_type": "code",
   "execution_count": null,
   "id": "883e600a",
   "metadata": {
    "ExecuteTime": {
     "end_time": "2023-11-16T20:06:17.341101Z",
     "start_time": "2023-11-16T20:06:17.289948Z"
    }
   },
   "outputs": [],
   "source": [
    "del dict_lats"
   ]
  },
  {
   "cell_type": "code",
   "execution_count": null,
   "id": "700f37ea",
   "metadata": {
    "ExecuteTime": {
     "end_time": "2023-11-16T20:06:17.520955Z",
     "start_time": "2023-11-16T20:06:17.345454Z"
    }
   },
   "outputs": [],
   "source": [
    "data"
   ]
  },
  {
   "cell_type": "code",
   "execution_count": null,
   "id": "66a0aed2",
   "metadata": {},
   "outputs": [],
   "source": []
  }
 ],
 "metadata": {
  "kernelspec": {
   "display_name": "Python 3 (ipykernel)",
   "language": "python",
   "name": "python3"
  },
  "language_info": {
   "codemirror_mode": {
    "name": "ipython",
    "version": 3
   },
   "file_extension": ".py",
   "mimetype": "text/x-python",
   "name": "python",
   "nbconvert_exporter": "python",
   "pygments_lexer": "ipython3",
   "version": "3.9.12"
  }
 },
 "nbformat": 4,
 "nbformat_minor": 5
}
